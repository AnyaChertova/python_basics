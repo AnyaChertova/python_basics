{
 "cells": [
  {
   "cell_type": "markdown",
   "metadata": {},
   "source": [
    "## Задание 1"
   ]
  },
  {
   "cell_type": "code",
   "execution_count": 13,
   "metadata": {},
   "outputs": [
    {
     "name": "stdout",
     "output_type": "stream",
     "text": [
      "Введите фразуghjolp\n",
      "Введите фразуghj\n",
      "Первая фраза длиннее второй\n"
     ]
    }
   ],
   "source": [
    "phrase_1 = input(\"Введите фразу\")\n",
    "phrase_2 = input(\"Введите фразу\")\n",
    "if len(phrase_1) > len(phrase_2):\n",
    "    print(\"Первая фраза длиннее второй\")\n",
    "elif len(phrase_1) == len(phrase_2):\n",
    "    print(\"Длина фраз одинаковая\")\n",
    "else:\n",
    "    print(\"Вторая фраза длиннее первой\")"
   ]
  },
  {
   "cell_type": "markdown",
   "metadata": {},
   "source": [
    "## Задание 2"
   ]
  },
  {
   "cell_type": "code",
   "execution_count": null,
   "metadata": {},
   "outputs": [],
   "source": [
    "year = int(input('введите год '))\n",
    "if year % 4 == 0:\n",
    "    print(year,'- високосный год')\n",
    "else:  \n",
    "    print(year,'- невисокосный год')"
   ]
  },
  {
   "cell_type": "markdown",
   "metadata": {},
   "source": [
    "## Задание 3"
   ]
  },
  {
   "cell_type": "code",
   "execution_count": 9,
   "metadata": {},
   "outputs": [
    {
     "name": "stdout",
     "output_type": "stream",
     "text": [
      "введите день 20\n",
      "введите месяц январь\n",
      "Ваш знак зодиака: Водолей\n"
     ]
    }
   ],
   "source": [
    "day = int(input('введите день '))\n",
    "month = input('введите месяц ')\n",
    "if month == 'январь' and day > 19 and day < 32 or month == 'февраль' and day < 20:\n",
    "    print ('Ваш знак зодиака: Водолей')\n",
    "elif month == 'февраль' and day > 19 and day < 30 or month == 'март' and day < 21:\n",
    "    print ('Ваш знак зодиака: Рыбы') \n",
    "elif month == 'март' and day > 20 and day < 32 or month == 'апрель' and day < 21:\n",
    "    print ('Ваш знак зодиака: Овен')\n",
    "elif month == 'апрель' and day > 20 and day < 31 or month == 'май' and day < 21:\n",
    "    print ('Ваш знак зодиака: Телец')\n",
    "elif month == 'май' and day > 20 and day < 32 or month == 'июнь' and day < 21:\n",
    "    print ('Ваш знак зодиака: Близнецы') \n",
    "elif month == 'июнь' and day > 20 and day < 31 or month == 'июль' and day < 23:\n",
    "    print ('Ваш знак зодиака: Рак') \n",
    "elif month == 'июль' and day > 22 and day < 32 or month == 'август' and day < 23:\n",
    "    print ('Ваш знак зодиака: Лев')   \n",
    "elif month == 'август' and day > 22 and day < 32 or month == 'сентябрь' and day < 23:\n",
    "    print ('Ваш знак зодиака: Дева')\n",
    "elif month == 'сентябрь' and day > 22 and day < 31 or month == 'октябрь' and day < 23:\n",
    "    print ('Ваш знак зодиака: Весы')\n",
    "elif month == 'октябрь' and day > 22 and day < 32 or month == 'ноябрь' and day < 23:\n",
    "    print ('Ваш знак зодиака: Скорпион')\n",
    "elif month == 'ноябрь' and day > 22 and day < 31 or month == 'декабрь' and day < 22:\n",
    "    print ('Ваш знак зодиака: Стрелец')\n",
    "elif month == 'декабрь' and day > 21 and day < 32 or month == 'январь' and day < 20:\n",
    "    print ('Ваш знак зодиака: Козерог') \n",
    "else:\n",
    "    print ('ошибочно введены число или месяц')"
   ]
  },
  {
   "cell_type": "markdown",
   "metadata": {},
   "source": [
    "## Задание 4"
   ]
  },
  {
   "cell_type": "code",
   "execution_count": 5,
   "metadata": {},
   "outputs": [
    {
     "name": "stdout",
     "output_type": "stream",
     "text": [
      "введите ширину 500\n",
      "введите длину 60\n",
      "введите высоту 10\n",
      "Стандартная коробка №3\n",
      "Конец программы\n"
     ]
    }
   ],
   "source": [
    "width = int(input('введите ширину '))\n",
    "length = int(input('введите длину '))\n",
    "height = int(input('введите высоту '))\n",
    "if length > 200:\n",
    "    print('Упаковка для лыж')\n",
    "elif width < 15 and length < 15 and length < 15:\n",
    "    print('Коробка №1')\n",
    "elif (width > 15 and width < 50) or (length > 15 and length < 50) or (height > 15 and height < 50):\n",
    "    print('Коробка №2')\n",
    "else:\n",
    "    print('Стандартная коробка №3')\n",
    "print ('Конец программы')    "
   ]
  },
  {
   "cell_type": "markdown",
   "metadata": {},
   "source": [
    "## Задание 5"
   ]
  },
  {
   "cell_type": "code",
   "execution_count": null,
   "metadata": {},
   "outputs": [],
   "source": []
  }
 ],
 "metadata": {
  "kernelspec": {
   "display_name": "Python 3",
   "language": "python",
   "name": "python3"
  },
  "language_info": {
   "codemirror_mode": {
    "name": "ipython",
    "version": 3
   },
   "file_extension": ".py",
   "mimetype": "text/x-python",
   "name": "python",
   "nbconvert_exporter": "python",
   "pygments_lexer": "ipython3",
   "version": "3.7.6"
  }
 },
 "nbformat": 4,
 "nbformat_minor": 4
}
